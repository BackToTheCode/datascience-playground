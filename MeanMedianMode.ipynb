{
 "cells": [
  {
   "cell_type": "markdown",
   "metadata": {
    "deletable": true,
    "editable": true
   },
   "source": [
    "# Mean, Median, Mode, and introducing NumPy"
   ]
  },
  {
   "cell_type": "markdown",
   "metadata": {
    "deletable": true,
    "editable": true
   },
   "source": [
    "## Mean vs. Median"
   ]
  },
  {
   "cell_type": "markdown",
   "metadata": {
    "deletable": true,
    "editable": true
   },
   "source": [
    "Let's create some fake income data, centered around 27,000 with a normal distribution and standard deviation of 15,000, with 10,000 data points. (We'll discuss those terms more later, if you're not familiar with them.)\n",
    "\n",
    "Then, compute the mean (average) - it should be close to 27,000:"
   ]
  },
  {
   "cell_type": "code",
   "execution_count": 12,
   "metadata": {
    "collapsed": false,
    "deletable": true,
    "editable": true
   },
   "outputs": [
    {
     "data": {
      "text/plain": [
       "27104.35216739176"
      ]
     },
     "execution_count": 12,
     "metadata": {},
     "output_type": "execute_result"
    }
   ],
   "source": [
    "import numpy as np\n",
    "\n",
    "incomes = np.random.normal(27000, 15000, 10000)\n",
    "np.mean(incomes)"
   ]
  },
  {
   "cell_type": "markdown",
   "metadata": {
    "deletable": true,
    "editable": true
   },
   "source": [
    "We can segment the income data into 50 buckets, and plot it as a histogram:"
   ]
  },
  {
   "cell_type": "code",
   "execution_count": 13,
   "metadata": {
    "collapsed": false,
    "deletable": true,
    "editable": true
   },
   "outputs": [
    {
     "data": {
      "image/png": "[encoded data removed]",
      "text/plain": [
       "<matplotlib.figure.Figure at 0x11eb66588>"
      ]
     },
     "metadata": {},
     "output_type": "display_data"
    }
   ],
   "source": [
    "%matplotlib inline\n",
    "import matplotlib.pyplot as plt\n",
    "plt.hist(incomes, 50)\n",
    "plt.show()"
   ]
  },
  {
   "cell_type": "markdown",
   "metadata": {
    "deletable": true,
    "editable": true
   },
   "source": [
    "Now compute the median - since we have a nice, even distribution it too should be close to 27,000:"
   ]
  },
  {
   "cell_type": "code",
   "execution_count": 14,
   "metadata": {
    "collapsed": false,
    "deletable": true,
    "editable": true
   },
   "outputs": [
    {
     "data": {
      "text/plain": [
       "27179.221511720723"
      ]
     },
     "execution_count": 14,
     "metadata": {},
     "output_type": "execute_result"
    }
   ],
   "source": [
    "np.median(incomes)"
   ]
  },
  {
   "cell_type": "markdown",
   "metadata": {
    "deletable": true,
    "editable": true
   },
   "source": [
    "Now we'll add Donald Trump into the mix. Darn income inequality!"
   ]
  },
  {
   "cell_type": "code",
   "execution_count": 15,
   "metadata": {
    "collapsed": false,
    "deletable": true,
    "editable": true
   },
   "outputs": [],
   "source": [
    "incomes = np.append(incomes, [1000000000])"
   ]
  },
  {
   "cell_type": "markdown",
   "metadata": {
    "deletable": true,
    "editable": true
   },
   "source": [
    "The median won't change much, but the mean does:"
   ]
  },
  {
   "cell_type": "code",
   "execution_count": 16,
   "metadata": {
    "collapsed": false,
    "deletable": true,
    "editable": true
   },
   "outputs": [
    {
     "data": {
      "text/plain": [
       "27180.648120860515"
      ]
     },
     "execution_count": 16,
     "metadata": {},
     "output_type": "execute_result"
    }
   ],
   "source": [
    "np.median(incomes)"
   ]
  },
  {
   "cell_type": "code",
   "execution_count": 17,
   "metadata": {
    "collapsed": false,
    "deletable": true,
    "editable": true
   },
   "outputs": [
    {
     "data": {
      "text/plain": [
       "127091.64300309145"
      ]
     },
     "execution_count": 17,
     "metadata": {},
     "output_type": "execute_result"
    }
   ],
   "source": [
    "np.mean(incomes)"
   ]
  },
  {
   "cell_type": "markdown",
   "metadata": {
    "deletable": true,
    "editable": true
   },
   "source": [
    "## Mode"
   ]
  },
  {
   "cell_type": "markdown",
   "metadata": {
    "deletable": true,
    "editable": true
   },
   "source": [
    "Next, let's generate some fake age data for 500 people:"
   ]
  },
  {
   "cell_type": "code",
   "execution_count": 20,
   "metadata": {
    "collapsed": false,
    "deletable": true,
    "editable": true
   },
   "outputs": [
    {
     "data": {
      "text/plain": [
       "array([43, 56, 59, 54, 21, 87, 34, 54, 71, 25, 86, 34, 40, 77, 85, 38, 59,\n",
       "       56, 23, 80, 86, 77, 41, 76, 41, 23, 81, 48, 41, 33, 52, 68, 74, 52,\n",
       "       55, 59, 70, 55, 89, 81, 72, 75, 49, 24, 49, 28, 75, 19, 36, 20, 32,\n",
       "       63, 88, 42, 56, 74, 76, 63, 45, 86, 52, 33, 76, 53, 78, 70, 31, 64,\n",
       "       41, 39, 24, 39, 37, 52, 45, 62, 77, 72, 73, 34, 44, 37, 46, 79, 20,\n",
       "       60, 22, 35, 18, 75, 52, 82, 62, 27, 48, 89, 31, 57, 74, 44, 49, 89,\n",
       "       23, 25, 48, 72, 69, 79, 77, 32, 52, 57, 30, 73, 50, 70, 67, 65, 83,\n",
       "       42, 40, 23, 35, 67, 24, 46, 58, 45, 81, 55, 25, 19, 67, 79, 48, 79,\n",
       "       89, 35, 67, 71, 66, 85, 36, 79, 72, 29, 36, 42, 22, 20, 50, 28, 62,\n",
       "       63, 71, 77, 27, 60, 87, 43, 49, 25, 29, 42, 31, 74, 26, 34, 32, 77,\n",
       "       63, 20, 49, 24, 44, 33, 88, 68, 73, 84, 44, 29, 88, 57, 71, 64, 40,\n",
       "       30, 48, 71, 71, 44, 65, 20, 82, 56, 54, 82, 34, 76, 73, 40, 34, 42,\n",
       "       85, 30, 38, 41, 77, 19, 89, 29, 63, 50, 80, 59, 87, 74, 24, 60, 78,\n",
       "       76, 40, 71, 43, 61, 70, 79, 64, 31, 18, 85, 22, 43, 66, 38, 80, 42,\n",
       "       52, 41, 82, 32, 63, 44, 26, 32, 69, 28, 85, 67, 55, 21, 48, 85, 39,\n",
       "       80, 56, 78, 33, 75, 35, 35, 22, 38, 77, 67, 33, 67, 52, 64, 24, 19,\n",
       "       66, 63, 20, 26, 55, 61, 49, 54, 75, 32, 77, 83, 40, 23, 34, 64, 24,\n",
       "       76, 23, 35, 23, 76, 27, 89, 67, 49, 83, 40, 89, 88, 30, 67, 23, 70,\n",
       "       34, 51, 80, 26, 72, 37, 23, 77, 87, 46, 67, 36, 31, 85, 60, 25, 47,\n",
       "       29, 56, 32, 25, 80, 59, 19, 57, 39, 88, 56, 77, 83, 65, 42, 40, 61,\n",
       "       67, 66, 18, 85, 48, 77, 54, 32, 38, 55, 83, 35, 47, 85, 45, 78, 25,\n",
       "       23, 47, 35, 89, 29, 76, 77, 24, 86, 65, 30, 81, 30, 66, 42, 56, 18,\n",
       "       29, 26, 37, 22, 49, 43, 29, 77, 41, 58, 31, 87, 44, 38, 54, 76, 73,\n",
       "       50, 79, 84, 20, 76, 51, 62, 27, 65, 84, 77, 40, 25, 59, 69, 79, 80,\n",
       "       71, 56, 64, 37, 64, 46, 60, 52, 83, 42, 36, 27, 82, 68, 23, 65, 48,\n",
       "       59, 45, 47, 85, 80, 33, 54, 25, 83, 60, 46, 73, 68, 72, 40, 71, 67,\n",
       "       81, 64, 54, 66, 20, 59, 62, 24, 84, 79, 67, 71, 67, 48, 77, 31, 20,\n",
       "       86, 48, 58, 59, 40, 64, 79, 21, 44, 24, 25, 30, 82, 67, 88, 68, 66,\n",
       "       38, 85, 71, 47, 75, 58, 22, 62, 64, 57, 57, 51, 65, 18, 89, 85, 45,\n",
       "       39, 62, 49, 61, 80, 80, 36])"
      ]
     },
     "execution_count": 20,
     "metadata": {},
     "output_type": "execute_result"
    }
   ],
   "source": [
    "ages = np.random.randint(18, high=90, size=500)\n",
    "ages"
   ]
  },
  {
   "cell_type": "code",
   "execution_count": 21,
   "metadata": {
    "collapsed": false,
    "deletable": true,
    "editable": true
   },
   "outputs": [
    {
     "data": {
      "text/plain": [
       "ModeResult(mode=array([77]), count=array([16]))"
      ]
     },
     "execution_count": 21,
     "metadata": {},
     "output_type": "execute_result"
    }
   ],
   "source": [
    "from scipy import stats\n",
    "stats.mode(ages)"
   ]
  },
  {
   "cell_type": "code",
   "execution_count": null,
   "metadata": {
    "collapsed": false,
    "deletable": true,
    "editable": true
   },
   "outputs": [],
   "source": []
  },
  {
   "cell_type": "code",
   "execution_count": null,
   "metadata": {
    "collapsed": true
   },
   "outputs": [],
   "source": []
  }
 ],
 "metadata": {
  "kernelspec": {
   "display_name": "Python 3",
   "language": "python",
   "name": "python3"
  },
  "language_info": {
   "codemirror_mode": {
    "name": "ipython",
    "version": 3
   },
   "file_extension": ".py",
   "mimetype": "text/x-python",
   "name": "python",
   "nbconvert_exporter": "python",
   "pygments_lexer": "ipython3",
   "version": "3.5.2"
  }
 },
 "nbformat": 4,
 "nbformat_minor": 0
}
